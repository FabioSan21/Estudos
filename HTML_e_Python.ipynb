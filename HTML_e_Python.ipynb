{
  "nbformat": 4,
  "nbformat_minor": 0,
  "metadata": {
    "colab": {
      "provenance": [],
      "authorship_tag": "ABX9TyNkWVzH26nOVOGhZsS6Tjts",
      "include_colab_link": true
    },
    "kernelspec": {
      "name": "python3",
      "display_name": "Python 3"
    },
    "language_info": {
      "name": "python"
    }
  },
  "cells": [
    {
      "cell_type": "markdown",
      "metadata": {
        "id": "view-in-github",
        "colab_type": "text"
      },
      "source": [
        "<a href=\"https://colab.research.google.com/github/FabioSan21/Estudos/blob/main/HTML_e_Python.ipynb\" target=\"_parent\"><img src=\"https://colab.research.google.com/assets/colab-badge.svg\" alt=\"Open In Colab\"/></a>"
      ]
    },
    {
      "cell_type": "code",
      "execution_count": 16,
      "metadata": {
        "colab": {
          "base_uri": "https://localhost:8080/"
        },
        "id": "metV3t-t2HqV",
        "outputId": "0b5162fb-552a-4fd4-b9d3-2f480d4bba7d"
      },
      "outputs": [
        {
          "output_type": "stream",
          "name": "stdout",
          "text": [
            "Tipo do dado:  <class 'str'>\n",
            "<class 'str'>\n",
            "8 exponenciação\n",
            "0 divisão inteira\n",
            "1 resto da divisao\n"
          ]
        },
        {
          "output_type": "execute_result",
          "data": {
            "text/plain": [
              "False"
            ]
          },
          "metadata": {},
          "execution_count": 16
        }
      ],
      "source": [
        "#Instituição: Uninassau\n",
        "#Docente: Cloves Rocha\n",
        "#Estudante: Fabio San\n",
        "\n",
        "f=\"fabio\"\n",
        "print(\"Tipo do dado: \",type(f))\n",
        "print(type(f))\n",
        "\n",
        "\n",
        "#3. Operadores Aritméticos - Guia Aprender Python\n",
        "\n",
        "#10 + 9   Adição\n",
        "#9 * 8    Multiplicação\n",
        "#9 - 7    Divisão\n",
        "#10 / 3   Divisão\n",
        "#5 ** 3   Exponenciação\n",
        "#10 // 3  Divisão Inteira\n",
        "#10 % 3   Resto da divisão\n",
        "\n",
        "f = 2**3\n",
        "print(f,'exponenciação')\n",
        "f = 2//3\n",
        "print(f,'divisão inteira')\n",
        "f = 10%3\n",
        "print(f,'resto da divisao')\n",
        "\n",
        "#operadores relacionais simples\n",
        "\n",
        "# 7 > 10\n",
        "# 9 < 8\n",
        "\n",
        "a= 10\n",
        "b= 8\n",
        "\n",
        "a == b\n"
      ]
    }
  ]
}