{
  "nbformat": 4,
  "nbformat_minor": 0,
  "metadata": {
    "colab": {
      "provenance": []
    },
    "kernelspec": {
      "name": "python3",
      "display_name": "Python 3"
    },
    "language_info": {
      "name": "python"
    }
  },
  "cells": [
    {
      "cell_type": "code",
      "execution_count": 19,
      "metadata": {
        "colab": {
          "base_uri": "https://localhost:8080/"
        },
        "id": "aq4KNZmcc-zl",
        "outputId": "fee738b2-51de-46f6-ae5d-6a4569ce244a"
      },
      "outputs": [
        {
          "output_type": "stream",
          "name": "stdout",
          "text": [
            "fabio, ola mundo\n",
            "<class 'float'> <class 'int'> <class 'bool'> <class 'bool'> <class 'str'>\n"
          ]
        }
      ],
      "source": [
        "# Uninassau\n",
        "# Docente: Cloves Rocha\n",
        "# Estudante\n",
        "# Tipos primitivos de dados\n",
        "\n",
        "\n",
        "print('fabio, ola mundo')\n",
        "\n",
        "a = 0.9\n",
        "b = 10\n",
        "c = False\n",
        "d = True\n",
        "e = 'fabio'\n",
        "\n",
        "print(type(a),type(b),type(c),type(d),type(e))"
      ]
    }
  ]
}