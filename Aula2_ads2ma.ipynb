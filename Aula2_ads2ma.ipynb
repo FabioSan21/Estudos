{
  "nbformat": 4,
  "nbformat_minor": 0,
  "metadata": {
    "colab": {
      "provenance": [],
      "authorship_tag": "ABX9TyNFLLJfYjZTm9w0g5r8H30q",
      "include_colab_link": true
    },
    "kernelspec": {
      "name": "python3",
      "display_name": "Python 3"
    },
    "language_info": {
      "name": "python"
    }
  },
  "cells": [
    {
      "cell_type": "markdown",
      "metadata": {
        "id": "view-in-github",
        "colab_type": "text"
      },
      "source": [
        "<a href=\"https://colab.research.google.com/github/FabioSan21/Estudos/blob/main/Aula2_ads2ma.ipynb\" target=\"_parent\"><img src=\"https://colab.research.google.com/assets/colab-badge.svg\" alt=\"Open In Colab\"/></a>"
      ]
    },
    {
      "cell_type": "code",
      "execution_count": 20,
      "metadata": {
        "colab": {
          "base_uri": "https://localhost:8080/"
        },
        "id": "aq4KNZmcc-zl",
        "outputId": "1ea842e7-9ccb-44d2-9c1b-9fc569f849e4"
      },
      "outputs": [
        {
          "output_type": "stream",
          "name": "stdout",
          "text": [
            "fabio, ola mundo\n",
            "<class 'float'> <class 'int'> <class 'bool'> <class 'bool'> <class 'str'> <class 'str'>\n"
          ]
        }
      ],
      "source": [
        "# Uninassau\n",
        "# Docente: Cloves Rocha\n",
        "# Estudante\n",
        "# Tipos primitivos de dados\n",
        "\n",
        "\n",
        "print('fabio, ola mundo')\n",
        "\n",
        "a = 0.9\n",
        "b = 10\n",
        "c = False\n",
        "d = True\n",
        "e = 'fabio'\n",
        "f = 'dado'\n",
        "\n",
        "print(type(a),type(b),type(c),type(d),type(e),type(f))"
      ]
    }
  ]
}